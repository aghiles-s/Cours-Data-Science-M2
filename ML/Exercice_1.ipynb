{
 "cells": [
  {
   "cell_type": "markdown",
   "id": "f9dc0589",
   "metadata": {},
   "source": [
    "# Introduction to Machine Learning – Titanic Dataset\n",
    "\n",
    "This notebook introduces basic supervised learning with:\n",
    "- Preprocessing (missing values, encoding)\n",
    "- Feature scaling\n",
    "- Pipeline creation with Scikit-learn\n",
    "- Model training & evaluation\n",
    "- Model saving and serving with FastAPI"
   ]
  },
  {
   "cell_type": "code",
   "id": "bddb9988",
   "metadata": {
    "ExecuteTime": {
     "end_time": "2025-07-01T08:53:33.902154Z",
     "start_time": "2025-07-01T08:53:30.433649Z"
    }
   },
   "source": [
    "# 📦 Imports\n",
    "import pandas as pd\n",
    "import numpy as np\n",
    "from sklearn.model_selection import train_test_split\n",
    "from sklearn.preprocessing import StandardScaler, OneHotEncoder\n",
    "from sklearn.compose import ColumnTransformer\n",
    "from sklearn.pipeline import Pipeline\n",
    "from sklearn.impute import SimpleImputer\n",
    "from sklearn.linear_model import LogisticRegression\n",
    "from sklearn.metrics import classification_report\n",
    "import joblib"
   ],
   "outputs": [],
   "execution_count": 1
  },
  {
   "cell_type": "code",
   "id": "628c2bcf",
   "metadata": {
    "ExecuteTime": {
     "end_time": "2025-07-01T08:58:47.733937Z",
     "start_time": "2025-07-01T08:58:38.688965Z"
    }
   },
   "source": [
    "# 📥 Load Titanic Dataset\n",
    "url = \"https://raw.githubusercontent.com/datasciencedojo/datasets/master/titanic.csv\"\n",
    "df = pd.read_csv(url)\n",
    "df.head()"
   ],
   "outputs": [
    {
     "data": {
      "text/plain": [
       "   PassengerId  Survived  Pclass  \\\n",
       "0            1         0       3   \n",
       "1            2         1       1   \n",
       "2            3         1       3   \n",
       "3            4         1       1   \n",
       "4            5         0       3   \n",
       "\n",
       "                                                Name     Sex   Age  SibSp  \\\n",
       "0                            Braund, Mr. Owen Harris    male  22.0      1   \n",
       "1  Cumings, Mrs. John Bradley (Florence Briggs Th...  female  38.0      1   \n",
       "2                             Heikkinen, Miss. Laina  female  26.0      0   \n",
       "3       Futrelle, Mrs. Jacques Heath (Lily May Peel)  female  35.0      1   \n",
       "4                           Allen, Mr. William Henry    male  35.0      0   \n",
       "\n",
       "   Parch            Ticket     Fare Cabin Embarked  \n",
       "0      0         A/5 21171   7.2500   NaN        S  \n",
       "1      0          PC 17599  71.2833   C85        C  \n",
       "2      0  STON/O2. 3101282   7.9250   NaN        S  \n",
       "3      0            113803  53.1000  C123        S  \n",
       "4      0            373450   8.0500   NaN        S  "
      ],
      "text/html": [
       "<div>\n",
       "<style scoped>\n",
       "    .dataframe tbody tr th:only-of-type {\n",
       "        vertical-align: middle;\n",
       "    }\n",
       "\n",
       "    .dataframe tbody tr th {\n",
       "        vertical-align: top;\n",
       "    }\n",
       "\n",
       "    .dataframe thead th {\n",
       "        text-align: right;\n",
       "    }\n",
       "</style>\n",
       "<table border=\"1\" class=\"dataframe\">\n",
       "  <thead>\n",
       "    <tr style=\"text-align: right;\">\n",
       "      <th></th>\n",
       "      <th>PassengerId</th>\n",
       "      <th>Survived</th>\n",
       "      <th>Pclass</th>\n",
       "      <th>Name</th>\n",
       "      <th>Sex</th>\n",
       "      <th>Age</th>\n",
       "      <th>SibSp</th>\n",
       "      <th>Parch</th>\n",
       "      <th>Ticket</th>\n",
       "      <th>Fare</th>\n",
       "      <th>Cabin</th>\n",
       "      <th>Embarked</th>\n",
       "    </tr>\n",
       "  </thead>\n",
       "  <tbody>\n",
       "    <tr>\n",
       "      <th>0</th>\n",
       "      <td>1</td>\n",
       "      <td>0</td>\n",
       "      <td>3</td>\n",
       "      <td>Braund, Mr. Owen Harris</td>\n",
       "      <td>male</td>\n",
       "      <td>22.0</td>\n",
       "      <td>1</td>\n",
       "      <td>0</td>\n",
       "      <td>A/5 21171</td>\n",
       "      <td>7.2500</td>\n",
       "      <td>NaN</td>\n",
       "      <td>S</td>\n",
       "    </tr>\n",
       "    <tr>\n",
       "      <th>1</th>\n",
       "      <td>2</td>\n",
       "      <td>1</td>\n",
       "      <td>1</td>\n",
       "      <td>Cumings, Mrs. John Bradley (Florence Briggs Th...</td>\n",
       "      <td>female</td>\n",
       "      <td>38.0</td>\n",
       "      <td>1</td>\n",
       "      <td>0</td>\n",
       "      <td>PC 17599</td>\n",
       "      <td>71.2833</td>\n",
       "      <td>C85</td>\n",
       "      <td>C</td>\n",
       "    </tr>\n",
       "    <tr>\n",
       "      <th>2</th>\n",
       "      <td>3</td>\n",
       "      <td>1</td>\n",
       "      <td>3</td>\n",
       "      <td>Heikkinen, Miss. Laina</td>\n",
       "      <td>female</td>\n",
       "      <td>26.0</td>\n",
       "      <td>0</td>\n",
       "      <td>0</td>\n",
       "      <td>STON/O2. 3101282</td>\n",
       "      <td>7.9250</td>\n",
       "      <td>NaN</td>\n",
       "      <td>S</td>\n",
       "    </tr>\n",
       "    <tr>\n",
       "      <th>3</th>\n",
       "      <td>4</td>\n",
       "      <td>1</td>\n",
       "      <td>1</td>\n",
       "      <td>Futrelle, Mrs. Jacques Heath (Lily May Peel)</td>\n",
       "      <td>female</td>\n",
       "      <td>35.0</td>\n",
       "      <td>1</td>\n",
       "      <td>0</td>\n",
       "      <td>113803</td>\n",
       "      <td>53.1000</td>\n",
       "      <td>C123</td>\n",
       "      <td>S</td>\n",
       "    </tr>\n",
       "    <tr>\n",
       "      <th>4</th>\n",
       "      <td>5</td>\n",
       "      <td>0</td>\n",
       "      <td>3</td>\n",
       "      <td>Allen, Mr. William Henry</td>\n",
       "      <td>male</td>\n",
       "      <td>35.0</td>\n",
       "      <td>0</td>\n",
       "      <td>0</td>\n",
       "      <td>373450</td>\n",
       "      <td>8.0500</td>\n",
       "      <td>NaN</td>\n",
       "      <td>S</td>\n",
       "    </tr>\n",
       "  </tbody>\n",
       "</table>\n",
       "</div>"
      ]
     },
     "execution_count": 2,
     "metadata": {},
     "output_type": "execute_result"
    }
   ],
   "execution_count": 2
  },
  {
   "cell_type": "code",
   "id": "467288a2",
   "metadata": {
    "ExecuteTime": {
     "end_time": "2025-07-01T08:58:47.924807Z",
     "start_time": "2025-07-01T08:58:47.873661Z"
    }
   },
   "source": [
    "# 🧹 Select Features and Target\n",
    "features = ['Pclass', 'Sex', 'Age', 'Fare', 'Embarked']\n",
    "target = 'Survived'\n",
    "\n",
    "X = df[features]\n",
    "y = df[target]"
   ],
   "outputs": [],
   "execution_count": 3
  },
  {
   "cell_type": "code",
   "id": "184e2f94",
   "metadata": {
    "ExecuteTime": {
     "end_time": "2025-07-01T08:58:48.563846Z",
     "start_time": "2025-07-01T08:58:48.538214Z"
    }
   },
   "source": [
    "# 🔧 Define Preprocessing Pipeline\n",
    "numeric_features = ['Age', 'Fare']\n",
    "numeric_transformer = Pipeline([\n",
    "    ('imputer', SimpleImputer(strategy='median')),\n",
    "    ('scaler', StandardScaler())\n",
    "])\n",
    "\n",
    "categorical_features = ['Pclass', 'Sex', 'Embarked']\n",
    "categorical_transformer = Pipeline([\n",
    "    ('imputer', SimpleImputer(strategy='most_frequent')),\n",
    "    ('encoder', OneHotEncoder(handle_unknown='ignore'))\n",
    "])\n",
    "\n",
    "preprocessor = ColumnTransformer([\n",
    "    ('num', numeric_transformer, numeric_features),\n",
    "    ('cat', categorical_transformer, categorical_features)\n",
    "])"
   ],
   "outputs": [],
   "execution_count": 4
  },
  {
   "cell_type": "code",
   "id": "7452379a",
   "metadata": {
    "ExecuteTime": {
     "end_time": "2025-07-01T08:58:54.045612Z",
     "start_time": "2025-07-01T08:58:53.161057Z"
    }
   },
   "source": [
    "# 🔁 Full Pipeline with Model\n",
    "clf_pipeline = Pipeline([\n",
    "    ('preprocessing', preprocessor),\n",
    "    ('classifier', LogisticRegression(max_iter=1000))\n",
    "])\n",
    "\n",
    "# Split the data\n",
    "X_train, X_test, y_train, y_test = train_test_split(X, y, test_size=0.2, random_state=42)\n",
    "\n",
    "# Train the model\n",
    "clf_pipeline.fit(X_train, y_train)\n",
    "\n",
    "# Evaluate\n",
    "y_pred = clf_pipeline.predict(X_test)\n",
    "print(classification_report(y_test, y_pred))"
   ],
   "outputs": [
    {
     "name": "stdout",
     "output_type": "stream",
     "text": [
      "              precision    recall  f1-score   support\n",
      "\n",
      "           0       0.81      0.84      0.82       105\n",
      "           1       0.76      0.72      0.74        74\n",
      "\n",
      "    accuracy                           0.79       179\n",
      "   macro avg       0.78      0.78      0.78       179\n",
      "weighted avg       0.79      0.79      0.79       179\n",
      "\n"
     ]
    }
   ],
   "execution_count": 5
  },
  {
   "cell_type": "markdown",
   "id": "c13b6dd7",
   "metadata": {},
   "source": [
    "## Save the Trained Pipeline"
   ]
  },
  {
   "cell_type": "code",
   "id": "d0fe50c6",
   "metadata": {
    "ExecuteTime": {
     "end_time": "2025-07-01T08:58:56.798148Z",
     "start_time": "2025-07-01T08:58:56.760109Z"
    }
   },
   "source": [
    "joblib.dump(clf_pipeline, \"titanic_pipeline.pkl\")"
   ],
   "outputs": [
    {
     "data": {
      "text/plain": [
       "['titanic_pipeline.pkl']"
      ]
     },
     "execution_count": 6,
     "metadata": {},
     "output_type": "execute_result"
    }
   ],
   "execution_count": 6
  },
  {
   "cell_type": "markdown",
   "id": "6c0bc0e4",
   "metadata": {},
   "source": [
    "## Exercise 1: Try a Different Classifier\n",
    "Replace the logistic regression model in the pipeline with another classifier, such as `RandomForestClassifier`, and compare the results.\n",
    "\n",
    "```python\n",
    "from sklearn.ensemble import RandomForestClassifier\n",
    "# Replace the classifier in clf_pipeline\n",
    "```\n",
    "\n",
    "*What changes do you observe in precision and recall?*"
   ]
  },
  {
   "metadata": {
    "ExecuteTime": {
     "end_time": "2025-07-01T08:59:03.145497Z",
     "start_time": "2025-07-01T08:59:00.654491Z"
    }
   },
   "cell_type": "code",
   "source": [
    "from sklearn.ensemble import RandomForestClassifier\n",
    "\n",
    "clf_pipeline_rf = Pipeline([\n",
    "    ('preprocessing', preprocessor),\n",
    "    ('classifier', RandomForestClassifier(n_estimators=100, random_state=42))\n",
    "])\n",
    "\n",
    "clf_pipeline_rf.fit(X_train, y_train)\n",
    "y_pred_rf = clf_pipeline_rf.predict(X_test)\n",
    "print(\"Random Forest Results:\\n\", classification_report(y_test, y_pred_rf))"
   ],
   "id": "380c4187ccc14213",
   "outputs": [
    {
     "name": "stdout",
     "output_type": "stream",
     "text": [
      "Random Forest Results:\n",
      "               precision    recall  f1-score   support\n",
      "\n",
      "           0       0.82      0.80      0.81       105\n",
      "           1       0.73      0.76      0.74        74\n",
      "\n",
      "    accuracy                           0.78       179\n",
      "   macro avg       0.78      0.78      0.78       179\n",
      "weighted avg       0.78      0.78      0.78       179\n",
      "\n"
     ]
    }
   ],
   "execution_count": 7
  },
  {
   "cell_type": "markdown",
   "id": "e482c4f2",
   "metadata": {},
   "source": [
    "## Exercise 2: Use Cross-Validation\n",
    "Apply cross-validation on the pipeline instead of a single train/test split.\n",
    "\n",
    "```python\n",
    "from sklearn.model_selection import cross_val_score\n",
    "```\n",
    "\n",
    "*Is the model stable across folds?*"
   ]
  },
  {
   "metadata": {
    "ExecuteTime": {
     "end_time": "2025-07-01T08:59:10.222856Z",
     "start_time": "2025-07-01T08:59:09.843083Z"
    }
   },
   "cell_type": "code",
   "source": [
    "from sklearn.model_selection import cross_val_score\n",
    "\n",
    "scores = cross_val_score(clf_pipeline, X, y, cv=5, scoring='accuracy')\n",
    "print(\"Cross-validation scores:\", scores)\n",
    "print(\"Mean accuracy:\", scores.mean())"
   ],
   "id": "f231dcdbb88be4ab",
   "outputs": [
    {
     "name": "stdout",
     "output_type": "stream",
     "text": [
      "Cross-validation scores: [0.78212291 0.80898876 0.78089888 0.76966292 0.80337079]\n",
      "Mean accuracy: 0.7890088506685079\n"
     ]
    }
   ],
   "execution_count": 8
  },
  {
   "cell_type": "markdown",
   "id": "3e156e8c",
   "metadata": {},
   "source": [
    "## Exercise 3: Add Feature Engineering\n",
    "Add a new column to the Titanic data, such as `FamilySize = SibSp + Parch`, and evaluate if this feature improves the model.\n",
    "\n",
    "```python\n",
    "df['FamilySize'] = df['SibSp'] + df['Parch']\n",
    "# Then include it in the feature list and re-run the pipeline\n",
    "```\n",
    "\n",
    "*Does the new feature improve the prediction metrics?*"
   ]
  },
  {
   "metadata": {
    "ExecuteTime": {
     "end_time": "2025-07-01T08:59:12.801430Z",
     "start_time": "2025-07-01T08:59:12.712366Z"
    }
   },
   "cell_type": "code",
   "source": [
    "# Ajout de la feature\n",
    "df['FamilySize'] = df['SibSp'] + df['Parch']\n",
    "features = ['Pclass', 'Sex', 'Age', 'Fare', 'Embarked', 'FamilySize']\n",
    "\n",
    "X = df[features]\n",
    "y = df[target]\n",
    "\n",
    "# Redéfinir le pipeline si besoin (le reste ne change pas)\n",
    "X_train, X_test, y_train, y_test = train_test_split(X, y, test_size=0.2, random_state=42)\n",
    "clf_pipeline.fit(X_train, y_train)\n",
    "y_pred = clf_pipeline.predict(X_test)\n",
    "print(classification_report(y_test, y_pred))"
   ],
   "id": "1e22638b14fa2f1f",
   "outputs": [
    {
     "name": "stdout",
     "output_type": "stream",
     "text": [
      "              precision    recall  f1-score   support\n",
      "\n",
      "           0       0.81      0.84      0.82       105\n",
      "           1       0.76      0.72      0.74        74\n",
      "\n",
      "    accuracy                           0.79       179\n",
      "   macro avg       0.78      0.78      0.78       179\n",
      "weighted avg       0.79      0.79      0.79       179\n",
      "\n"
     ]
    }
   ],
   "execution_count": 9
  },
  {
   "cell_type": "markdown",
   "id": "a0ecf45a",
   "metadata": {},
   "source": [
    "## Exercise 4 (Bonus): Create a Streamlit Interface\n",
    "Build a simple Streamlit UI to load the trained model and predict survival based on user input.\n",
    "\n",
    "```python\n",
    "# Example streamlit interface\n",
    "import streamlit as st\n",
    "import joblib\n",
    "import pandas as pd\n",
    "\n",
    "model = joblib.load(\"titanic_pipeline.pkl\")\n",
    "Pclass = st.selectbox(\"Pclass\", [1, 2, 3])\n",
    "Sex = st.selectbox(\"Sex\", [\"male\", \"female\"])\n",
    "Age = st.slider(\"Age\", 0, 100, 25)\n",
    "Fare = st.slider(\"Fare\", 0.0, 500.0, 32.0)\n",
    "Embarked = st.selectbox(\"Embarked\", [\"S\", \"C\", \"Q\"])\n",
    "\n",
    "if st.button(\"Predict\"):\n",
    "    X_new = pd.DataFrame([[Pclass, Sex, Age, Fare, Embarked]],\n",
    "                         columns=[\"Pclass\", \"Sex\", \"Age\", \"Fare\", \"Embarked\"])\n",
    "    pred = model.predict(X_new)\n",
    "    st.write(\"Prediction:\", \"Survived\" if pred[0] == 1 else \"Did not survive\")\n",
    "```\n",
    "\n",
    "👉 *Try running your Streamlit app locally.*"
   ]
  },
  {
   "metadata": {
    "ExecuteTime": {
     "end_time": "2025-07-01T09:03:41.117709Z",
     "start_time": "2025-07-01T09:03:20.311689Z"
    }
   },
   "cell_type": "code",
   "source": [
    "# Commande pour lancer l'application Streamlit\n",
    "!streamlit run app_.py"
   ],
   "id": "d5ac2cef9ab48b9d",
   "outputs": [
    {
     "name": "stdout",
     "output_type": "stream",
     "text": [
      "^C\n"
     ]
    }
   ],
   "execution_count": 15
  },
  {
   "metadata": {},
   "cell_type": "markdown",
   "source": "## Streamlit App",
   "id": "6f7fc94cc05f3f1c"
  },
  {
   "metadata": {},
   "cell_type": "code",
   "outputs": [],
   "execution_count": null,
   "source": [
    "import streamlit as st\n",
    "import joblib\n",
    "import pandas as pd\n",
    "\n",
    "model = joblib.load(\"titanic_pipeline.pkl\")\n",
    "Pclass = st.selectbox(\"Pclass\", [1, 2, 3])\n",
    "Sex = st.selectbox(\"Sex\", [\"male\", \"female\"])\n",
    "Age = st.slider(\"Age\", 0, 100, 25)\n",
    "Fare = st.slider(\"Fare\", 0.0, 500.0, 32.0)\n",
    "Embarked = st.selectbox(\"Embarked\", [\"S\", \"C\", \"Q\"])\n",
    "\n",
    "if st.button(\"Predict\"):\n",
    "    X_new = pd.DataFrame([[Pclass, Sex, Age, Fare, Embarked]],\n",
    "                         columns=[\"Pclass\", \"Sex\", \"Age\", \"Fare\", \"Embarked\"])\n",
    "    pred = model.predict(X_new)\n",
    "    st.write(\"Prediction:\", \"Survived\" if pred[0] == 1 else \"Did not survive\")\n"
   ],
   "id": "d3b1d4ea6aede69"
  }
 ],
 "metadata": {
  "kernelspec": {
   "display_name": ".venv",
   "language": "python",
   "name": "python3"
  },
  "language_info": {
   "name": "python",
   "version": "3.13.3"
  }
 },
 "nbformat": 4,
 "nbformat_minor": 5
}
